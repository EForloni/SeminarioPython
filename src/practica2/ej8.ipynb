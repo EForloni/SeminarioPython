{
 "cells": [
  {
   "cell_type": "code",
   "execution_count": 2,
   "metadata": {},
   "outputs": [
    {
     "name": "stdout",
     "output_type": "stream",
     "text": [
      "No son anagramas\n"
     ]
    }
   ],
   "source": [
    "word1 = input(\"Ingrese palabra 1\")\n",
    "word2 = input(\"Ingrese palabra 2\")\n",
    "\n",
    "word1.lower()\n",
    "word2.lower()\n",
    "\n",
    "word1_inorder = sorted(word1)\n",
    "word2_inorder = sorted(word2)\n",
    "\n",
    "if (word1_inorder == word2_inorder):\n",
    "    print(\"Son anagramas\")\n",
    "else:\n",
    "    print(\"No son anagramas\")"
   ]
  }
 ],
 "metadata": {
  "kernelspec": {
   "display_name": "Python 3",
   "language": "python",
   "name": "python3"
  },
  "language_info": {
   "codemirror_mode": {
    "name": "ipython",
    "version": 3
   },
   "file_extension": ".py",
   "mimetype": "text/x-python",
   "name": "python",
   "nbconvert_exporter": "python",
   "pygments_lexer": "ipython3",
   "version": "3.12.9"
  }
 },
 "nbformat": 4,
 "nbformat_minor": 2
}
