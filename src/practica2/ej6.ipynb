{
 "cells": [
  {
   "cell_type": "code",
   "execution_count": 4,
   "metadata": {},
   "outputs": [
    {
     "name": "stdout",
     "output_type": "stream",
     "text": [
      "Menciones de musica: 4\n",
      "Menciones de charla: 2\n",
      "Menciones de entretenimiento: 1\n"
     ]
    }
   ],
   "source": [
    "descriptions = [\n",
    "\"Streaming de música en vivo con covers y composiciones\",\n",
    "\"Charla interactiva con la audiencia sobre series y películas\",\n",
    "\"Jugamos a juegos retro y charlamos sobre su historia\",\n",
    "\"Exploramos la mejor música de los 80s y 90s\",\n",
    "\"Programa de entretenimiento con noticias y curiosidades del mundo gamer\",\n",
    "\"Sesión de charla con invitados especiales del mundo del streaming\",\n",
    "\"Música en directo con improvisaciones y peticiones del chat\",\n",
    "\"Un espacio para charlar relajada sobre tecnología y cultura digital\",\n",
    "\"Exploramos el impacto de la música en los videojuegos clásicos\"\n",
    "]\n",
    "\n",
    "cant_music = 0\n",
    "cant_charla = 0\n",
    "cant_entretenimiento = 0\n",
    "\n",
    "for desc in descriptions:\n",
    "    if \"música\" in desc.lower():\n",
    "        cant_music += 1\n",
    "    if \"charla\" in desc.lower().split():\n",
    "        cant_charla += 1\n",
    "    if \"entretenimiento\" in desc.lower():\n",
    "        cant_entretenimiento += 1\n",
    "\n",
    "print(\"Menciones de musica: \"+ str(cant_music))\n",
    "print(\"Menciones de charla: \"+ str(cant_charla))\n",
    "print(\"Menciones de entretenimiento: \"+ str(cant_entretenimiento))"
   ]
  }
 ],
 "metadata": {
  "kernelspec": {
   "display_name": "Python 3",
   "language": "python",
   "name": "python3"
  },
  "language_info": {
   "codemirror_mode": {
    "name": "ipython",
    "version": 3
   },
   "file_extension": ".py",
   "mimetype": "text/x-python",
   "name": "python",
   "nbconvert_exporter": "python",
   "pygments_lexer": "ipython3",
   "version": "3.12.9"
  }
 },
 "nbformat": 4,
 "nbformat_minor": 2
}
