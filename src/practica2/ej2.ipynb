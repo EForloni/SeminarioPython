{
 "cells": [
  {
   "cell_type": "code",
   "execution_count": 20,
   "metadata": {},
   "outputs": [
    {
     "name": "stdout",
     "output_type": "stream",
     "text": [
      "El titulo mas largo es: Jugando al nuevo FPS del momento con amigos\n"
     ]
    }
   ],
   "source": [
    "titles = [\n",
    "\"Speedrun de Super Mario en tiempo récord\",\n",
    "\"Charla sobre desarrollo de videojuegos\",\n",
    "\"Jugando al nuevo FPS del momento con amigos\",\n",
    "\"Música en vivo: improvisaciones al piano\"\n",
    "]\n",
    "\n",
    "maxtitle = \"\"\n",
    "maxwords = 0\n",
    "\n",
    "for title in titles :\n",
    "    words = title.split(\" \")\n",
    "    words_count = len(words)\n",
    "    if (words_count > maxwords):\n",
    "        maxwords = words_count\n",
    "        maxtitle = title\n",
    "print(\"El titulo mas largo es: \"+ maxtitle)\n"
   ]
  }
 ],
 "metadata": {
  "kernelspec": {
   "display_name": "Python 3",
   "language": "python",
   "name": "python3"
  },
  "language_info": {
   "codemirror_mode": {
    "name": "ipython",
    "version": 3
   },
   "file_extension": ".py",
   "mimetype": "text/x-python",
   "name": "python",
   "nbconvert_exporter": "python",
   "pygments_lexer": "ipython3",
   "version": "3.12.9"
  }
 },
 "nbformat": 4,
 "nbformat_minor": 2
}
