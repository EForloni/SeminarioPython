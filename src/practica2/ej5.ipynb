{
 "cells": [
  {
   "cell_type": "code",
   "execution_count": 7,
   "metadata": {},
   "outputs": [
    {
     "name": "stdout",
     "output_type": "stream",
     "text": [
      "Categoria: Normal\n"
     ]
    }
   ],
   "source": [
    "ms = int(input(\"Ingrese su tiempo de reacción en ms\"))\n",
    "\n",
    "out = \"\"\n",
    "\n",
    "if (ms <= 200):\n",
    "    out = \"Rapido\"\n",
    "if ((ms >= 200) and (ms <= 500)):\n",
    "    out = \"Normal\"\n",
    "if (ms >= 500):\n",
    "    out = \"Lento\"\n",
    "\n",
    "print(\"Categoria: \"+ out)"
   ]
  }
 ],
 "metadata": {
  "kernelspec": {
   "display_name": "Python 3",
   "language": "python",
   "name": "python3"
  },
  "language_info": {
   "codemirror_mode": {
    "name": "ipython",
    "version": 3
   },
   "file_extension": ".py",
   "mimetype": "text/x-python",
   "name": "python",
   "nbconvert_exporter": "python",
   "pygments_lexer": "ipython3",
   "version": "3.12.9"
  }
 },
 "nbformat": 4,
 "nbformat_minor": 2
}
