{
 "cells": [
  {
   "cell_type": "code",
   "execution_count": null,
   "metadata": {},
   "outputs": [],
   "source": [
    "import datetime\n",
    "import random\n",
    "import string\n",
    "\n",
    "user = input (\"Ingrese usuario:\")\n",
    "while len(user)>15:\n",
    "    print(\"Usuario Incorrecto\")\n",
    "    user = input (\"Ingrese usuario:\")\n",
    "print(\"Usuario Correcto\")\n",
    "\n",
    "date  = datetime.date.today()\n",
    "date_form = date.strftime(\"%Y%m%d\")\n",
    "\n",
    "long_used = user + \"-\" + date_form + \"-\"\n",
    "\n",
    "long_final = 30 - len(long_used)\n",
    "\n",
    "chars = string.ascii_uppercase + string.digits\n",
    "random_code = ''.join(random.choices(chars, k=long_final))\n",
    "\n",
    "code = user.upper() + \"-\" + date_form + \"-\" + random_code\n",
    "\n",
    "print(\"Código de descuento: \"+code)\n"
   ]
  }
 ],
 "metadata": {
  "kernelspec": {
   "display_name": "Python 3",
   "language": "python",
   "name": "python3"
  },
  "language_info": {
   "codemirror_mode": {
    "name": "ipython",
    "version": 3
   },
   "file_extension": ".py",
   "mimetype": "text/x-python",
   "name": "python",
   "nbconvert_exporter": "python",
   "pygments_lexer": "ipython3",
   "version": "3.12.9"
  }
 },
 "nbformat": 4,
 "nbformat_minor": 2
}
