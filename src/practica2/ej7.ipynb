{
 "cells": [
  {
   "cell_type": "code",
   "execution_count": null,
   "metadata": {},
   "outputs": [
    {
     "name": "stdout",
     "output_type": "stream",
     "text": [
      "Usuario Incorrecto\n",
      "Usuario Incorrecto\n",
      "Usuario Incorrecto\n",
      "Usuario Correcto\n"
     ]
    }
   ],
   "source": [
    "user = input (\"Ingrese usuario:\")\n",
    "while len(user)>15:\n",
    "    print(\"Usuario Incorrecto\")\n",
    "    user = input (\"Ingrese usuario:\")\n",
    "print(\"Usuario Correcto\")\n",
    "\n"
   ]
  }
 ],
 "metadata": {
  "kernelspec": {
   "display_name": "Python 3",
   "language": "python",
   "name": "python3"
  },
  "language_info": {
   "codemirror_mode": {
    "name": "ipython",
    "version": 3
   },
   "file_extension": ".py",
   "mimetype": "text/x-python",
   "name": "python",
   "nbconvert_exporter": "python",
   "pygments_lexer": "ipython3",
   "version": "3.12.9"
  }
 },
 "nbformat": 4,
 "nbformat_minor": 2
}
