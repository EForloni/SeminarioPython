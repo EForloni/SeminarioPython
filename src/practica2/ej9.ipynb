{
 "cells": [
  {
   "cell_type": "code",
   "execution_count": null,
   "metadata": {},
   "outputs": [
    {
     "name": "stdout",
     "output_type": "stream",
     "text": [
      "['Alejandro González', 'Ana López', 'Andrés Ocampo', 'Carlos Mendes', 'Claudia Torres', 'Damián Castillo', 'Gabriela Ruíz', 'Juan Pérez', 'Laura Ramos', 'Luis Rodríguez', 'Maria Martínez', 'Marta Suárez', 'María Martínez', 'Miguel Ángel', 'Monica Herrera', 'Patricia Vega', 'Pedro Gómez', 'Ricardo Fernández', 'Sandra Morales']\n"
     ]
    }
   ],
   "source": [
    "clients = [\n",
    "\" Ana López \", \"Pedro Gómez\", \"maria martínez\", \"Pedro Gómez \", \"\",\n",
    "\" Luis Rodríguez \", None, \"ana lópez\", \"JUAN PÉREZ\", \"MARTA SUÁREZ\",\n",
    "\"luis rodríguez\", \"maría martínez \", \" claudia torres\", \"CLAUDIA TORRES\",\n",
    "\" \", \"pedro gómez\", \"Juan Pérez\", None, \"Ricardo Fernández\", \"LAURA RAMOS\",\n",
    "\"carlos mendes\", \"RICARDO FERNÁNDEZ \", \" Laura ramos\", \"CARLOS MENDES\",\n",
    "\"alejandro gonzález\", \" ALEJANDRO GONZÁLEZ \", \"Patricia Vega\",\n",
    "\"patricia VEGA\", \"Andrés Ocampo\", \" andrés ocampo\", \"Monica Herrera\",\n",
    "\"MONICA HERRERA \", \"gabriela ruíz\", \"Gabriela Ruíz\", \"sandra morales\",\n",
    "\"SANDRA MORALES\", \"miguel ángel\", \"Miguel Ángel \", \" Damián Castillo\",\n",
    "\"Damián Castillo \", None, \"\", \" \"\n",
    "]\n",
    "\n",
    "def clean_titles(clients):\n",
    "    new_clients = [] \n",
    "    for client in clients:\n",
    "        if client and client.strip():\n",
    "            clean_name = client.strip().title()\n",
    "            new_clients.append(clean_name)\n",
    "    return new_clients\n",
    "\n",
    "def process_clients(clients):\n",
    "    clean_clients = clean_titles(clients)\n",
    "    single_clients = list(set(clean_clients))\n",
    "    final_clients = sorted(single_clients)\n",
    "    return(final_clients)\n",
    "\n",
    "print(process_clients(clients))\n"
   ]
  }
 ],
 "metadata": {
  "kernelspec": {
   "display_name": "Python 3",
   "language": "python",
   "name": "python3"
  },
  "language_info": {
   "codemirror_mode": {
    "name": "ipython",
    "version": 3
   },
   "file_extension": ".py",
   "mimetype": "text/x-python",
   "name": "python",
   "nbconvert_exporter": "python",
   "pygments_lexer": "ipython3",
   "version": "3.12.9"
  }
 },
 "nbformat": 4,
 "nbformat_minor": 2
}
