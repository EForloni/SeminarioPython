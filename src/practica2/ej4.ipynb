{
 "cells": [
  {
   "cell_type": "code",
   "execution_count": null,
   "metadata": {},
   "outputs": [
    {
     "name": "stdout",
     "output_type": "stream",
     "text": [
      " Nombre de usuario valido \n"
     ]
    }
   ],
   "source": [
    "user = input(\"Ingrese nombre de usuario\")\n",
    "\n",
    "long = len(user) >= 5\n",
    "contains_numbers = (num.isdigit() for num in user)\n",
    "contains_mayus = (word.isupper() for word in user)\n",
    "contains_num_mayus = user.isalnum()\n",
    "\n",
    "if (contains_numbers) :\n",
    "    if (contains_mayus) :\n",
    "        if (contains_num_mayus) :\n",
    "            print (\" Nombre de usuario valido \")\n",
    "        else :\n",
    "            print (\" Nombre de usuario invalido \")"
   ]
  }
 ],
 "metadata": {
  "kernelspec": {
   "display_name": "Python 3",
   "language": "python",
   "name": "python3"
  },
  "language_info": {
   "codemirror_mode": {
    "name": "ipython",
    "version": 3
   },
   "file_extension": ".py",
   "mimetype": "text/x-python",
   "name": "python",
   "nbconvert_exporter": "python",
   "pygments_lexer": "ipython3",
   "version": "3.12.9"
  }
 },
 "nbformat": 4,
 "nbformat_minor": 2
}
