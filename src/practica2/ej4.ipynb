{
 "cells": [
  {
   "cell_type": "code",
   "execution_count": 9,
   "metadata": {},
   "outputs": [
    {
     "name": "stdout",
     "output_type": "stream",
     "text": [
      "Nombre de usuario válido\n"
     ]
    }
   ],
   "source": [
    "user = input(\"Ingrese nombre de usuario\")\n",
    "\n",
    "long = len(user) >= 5\n",
    "contains_numbers = False\n",
    "contains_mayus = False\n",
    "\n",
    "for c in user:\n",
    "    if c.isdigit(): contains_numbers = True\n",
    "    if c.isupper(): contains_mayus = True\n",
    "    if contains_numbers and contains_mayus: break\n",
    "\n",
    "if long and contains_numbers and contains_mayus and user.isalnum():\n",
    "    print(\"Nombre de usuario válido\")\n",
    "else:\n",
    "    print(\"Nombre de usuario inválido\")"
   ]
  }
 ],
 "metadata": {
  "kernelspec": {
   "display_name": "Python 3",
   "language": "python",
   "name": "python3"
  },
  "language_info": {
   "codemirror_mode": {
    "name": "ipython",
    "version": 3
   },
   "file_extension": ".py",
   "mimetype": "text/x-python",
   "name": "python",
   "nbconvert_exporter": "python",
   "pygments_lexer": "ipython3",
   "version": "3.12.9"
  }
 },
 "nbformat": 4,
 "nbformat_minor": 2
}
